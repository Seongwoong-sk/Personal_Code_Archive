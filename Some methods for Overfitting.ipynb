{
  "nbformat": 4,
  "nbformat_minor": 0,
  "metadata": {
    "colab": {
      "name": "15-1강 과적합.ipynb",
      "provenance": [],
      "collapsed_sections": []
    },
    "kernelspec": {
      "name": "python3",
      "display_name": "Python 3"
    }
  },
  "cells": [
    {
      "cell_type": "markdown",
      "metadata": {
        "id": "EyfIVxAbURRU"
      },
      "source": [
        "# 15. 과적합\n",
        "\n",
        "과적합은 학습 데이터에 치중하여 모델이 학습하는 현상으로 새로운 데이터에 대해서 대응을 못하는 문제다. 따라서 딥러닝에서 가장 쉽게 접할 수 있는 문제 유형이며 개선하지 힘든 문제다.  "
      ]
    },
    {
      "cell_type": "markdown",
      "metadata": {
        "id": "fMTc4laPU1BB"
      },
      "source": [
        "## 15.1 Dropout & Batch Normalization\n"
      ]
    },
    {
      "cell_type": "code",
      "metadata": {
        "id": "jrBtSTGsU66B"
      },
      "source": [
        "class CNN(nn.Module):\n",
        "    def __init__(self):\n",
        "        super(CNN, self).__init__()\n",
        "        \n",
        "        self.feature_extraction = nn.Sequential(nn.Conv2d(3, 6, 5), \n",
        "                                                nn.BatchNorm2d(6), # 주로 Conv 연산이 끝난 뒤 넣음 / 각 채널의 평균과 표준편차를 구해서 정규화를 시키는 방법\n",
        "                                                nn.ReLU(),\n",
        "                                                nn.MaxPool2d(2, 2), \n",
        "                                                nn.Conv2d(6, 16, 5),\n",
        "                                                nn.BatchNorm2d(16),\n",
        "                                                nn.ReLU(),\n",
        "                                                nn.MaxPool2d(2, 2))\n",
        "        \n",
        "        # classifier가 깊으면 깊을수록 과적합 확률 높음 --> 따라서 과적합이 심하다면 cls의 layer를 줄여보는 것도 방법\n",
        "        # cls보다 FE가 더 중요하기 때문에, cls 파트를 너무 깊게 안 쌓아도 됨.\n",
        "        self.classifier = nn.Sequential(nn.Linear(512, 120),\n",
        "                                        nn.ReLU(),\n",
        "                                        nn.Dropout(0.5), # 비활성화 시킬 노드의 비율 / 보통 FE보다 Fully Connected Layer에서 사용.\n",
        "                                        nn.Linear(120, 64),\n",
        "                                        nn.ReLU(),\n",
        "                                        nn.Linear(64, 10))\n",
        "                                        \n",
        "    def forward(self, x):\n",
        "        x = self.feature_extraction(x)\n",
        "        x = x.view(-1, 512) \n",
        "        x = self.classifier(x)\n",
        "\n",
        "        return x\n",
        "\n",
        "net = CNN().to(device) # 모델 선언"
      ],
      "execution_count": null,
      "outputs": []
    },
    {
      "cell_type": "markdown",
      "metadata": {
        "id": "7lnvdVLDU9XD"
      },
      "source": [
        "##15.2 L2 Regularization\n",
        "\n",
        "loss function에다가 제약 조건을 걸어주는 방법\n",
        "- 학습을 할 때 최저점에 일부러 가지 못하도록 바운데리를 설정\n",
        "- loss function 미분을 해서 optimizer 계산을 해보면 가중치가 업데이트되는 부분 앞에 패널티 값이 있는 것을 확인 가능 "
      ]
    },
    {
      "cell_type": "code",
      "metadata": {
        "id": "RT54D87fVAk5"
      },
      "source": [
        "# 파이토치는 L2 정규화를 loss에서 설정하지 않고 옵티마이저에서 설정\n",
        "\n",
        "import torch.optim as optim\n",
        "\n",
        "                                                    # l2식의 lambda :: 패널티 값이 크면 클수록 제약 조건이 더 심해진다. --> 너무 큰 값으로 하면 오히려 학습이 더 잘 안될 수도 있음\n",
        "optimizer = optim.Adam(model.parameters(), lr=1e-4, weight_decay=1e-2)"
      ],
      "execution_count": null,
      "outputs": []
    },
    {
      "cell_type": "markdown",
      "metadata": {
        "id": "ztEPe1J_VBD4"
      },
      "source": [
        "## 15.3 Data Augmentation"
      ]
    },
    {
      "cell_type": "code",
      "metadata": {
        "id": "fYiPkl_nVGDs"
      },
      "source": [
        "\n",
        "# https://pytorch.org/docs/stable/torchvision/transforms.html에서 다양한 전처리 방법들을 확인할 수 있다.\n",
        "import torchvision.transforms as tr\n",
        "import PIL\n",
        "\n",
        "transf = tr.Compose(\n",
        "                [tr.ToPILImage(), tr.RandomCrop(60), tr.ColorJitter(brightness=0.1, contrast=0.1, saturation=0.1, hue=0.1),\n",
        "                 tr.RandomHorizontalFlip(),\n",
        "                 tr.RandomRotation(10, resample=PIL.Image.BILINEAR),\n",
        "                 tr.ToTensor()\n",
        "                 ])"
      ],
      "execution_count": null,
      "outputs": []
    },
    {
      "cell_type": "markdown",
      "source": [
        "## 15.4 Label Smoothing\n",
        "\n",
        "각각의 클래스의 격차를 줄여주는 방법\n"
      ],
      "metadata": {
        "id": "qp5Tzng-MRmr"
      }
    },
    {
      "cell_type": "code",
      "metadata": {
        "id": "MVL_3giLWpuK"
      },
      "source": [
        "import torch.nn as nn\n",
        "\n",
        "class LabelSmoothingLoss(nn.Module):\n",
        "    def __init__(self, classes, smoothing=0.0, dim=-1):\n",
        "        super(LabelSmoothingLoss, self).__init__()\n",
        "        self.confidence = 1.0 - smoothing\n",
        "        self.smoothing = smoothing\n",
        "        self.cls = classes\n",
        "        self.dim = dim\n",
        "\n",
        "    def forward(self, pred, target):\n",
        "        pred = pred.log_softmax(dim=self.dim) # Cross Entropy 부분의 log softmax 미리 계산하기\n",
        "        with torch.no_grad():\n",
        "            # true_dist = pred.data.clone()\n",
        "            true_dist = torch.zeros_like(pred) # 예측값과 동일한 크기의 영텐서 만들기\n",
        "            true_dist.fill_(self.smoothing / (self.cls - 1)) # alpha/(K-1)을 만들어 줌(alpha/K로 할 수도 있음)\n",
        "            true_dist.scatter_(1, target.data.unsqueeze(1), self.confidence) # (1-alpha)y + alpha/(K-1)\n",
        "        return torch.mean(torch.sum(-true_dist * pred, dim=self.dim)) # Cross Entropy Loss 계산"
      ],
      "execution_count": 1,
      "outputs": []
    },
    {
      "cell_type": "code",
      "metadata": {
        "id": "_WgWgfF-XGys"
      },
      "source": [
        "ls = LabelSmoothingLoss(10, smoothing=0.2)"
      ],
      "execution_count": null,
      "outputs": []
    },
    {
      "cell_type": "code",
      "source": [
        "for data in dataloader:\n",
        "    ...\n",
        "\n",
        "    loss = ls(pred, labels) # loss부분만 바꿔주면 됨.\n",
        "\n",
        "    ...\n",
        "    "
      ],
      "metadata": {
        "id": "NcB_bxd0TAlm"
      },
      "execution_count": null,
      "outputs": []
    }
  ]
}