{
  "nbformat": 4,
  "nbformat_minor": 0,
  "metadata": {
    "colab": {
      "name": "15-2강 Early stopping.ipynb",
      "provenance": [],
      "collapsed_sections": []
    },
    "kernelspec": {
      "display_name": "Python 3",
      "language": "python",
      "name": "python3"
    },
    "language_info": {
      "codemirror_mode": {
        "name": "ipython",
        "version": 3
      },
      "file_extension": ".py",
      "mimetype": "text/x-python",
      "name": "python",
      "nbconvert_exporter": "python",
      "pygments_lexer": "ipython3",
      "version": "3.7.4"
    },
    "accelerator": "GPU"
  },
  "cells": [
    {
      "cell_type": "markdown",
      "source": [
        "# 9. 성능 개선\n",
        "## 9.1. 과적합 - Early stopping\n",
        "\n",
        "조기종료 시점 : train loss는 계속 감소하는데, val_loss는 유지되거나 증가하는 추세를 보일 때\n",
        "- 학습을 계속 한다고 해서 모델 성능을 향상시키는 것은 아니다.\n",
        "- 검증 기준으로 검증 성능이 가장 잘 나올때까지 학습을 하는 게 Early Stopping \n",
        "- 길게 학습을 해놓고 검증 성능 기준으로 모델 파라미터를 best라고 함\n",
        "\n",
        "단점\n",
        "- **스케줄러에 의해서 loss가 stable하게 가다가 감소되는 경우가 있기 때문에 짧게 early stopping이 단점이 될 수도 있음 --> 유의**\n",
        "- 손실 함수 값이 적다고 해서 정확도가 낮은 건 아님 --> 정확히 반비례 관계는 아님. 그리고 val acc가 높다고 해서 test acc가 높은 건 아님.\n",
        "    \n",
        "\n",
        "유의할 점\n",
        "- early stopping을 할 때 절대 test data로 사용하면 안됨"
      ],
      "metadata": {
        "id": "aHYslj8J-ZdS"
      }
    },
    {
      "cell_type": "code",
      "metadata": {
        "id": "DRe-AWuu-Zdc"
      },
      "source": [
        "import torch\n",
        "import torchvision\n",
        "import torchvision.transforms as transforms\n",
        "from torch.utils.data import DataLoader\n",
        "import torch.nn as nn\n",
        "import torch.nn.functional as F\n",
        "import torch.optim as optim\n",
        "import matplotlib.pyplot as plt"
      ],
      "execution_count": 1,
      "outputs": []
    },
    {
      "cell_type": "code",
      "metadata": {
        "id": "cGK-uI42_20i",
        "colab": {
          "base_uri": "https://localhost:8080/"
        },
        "outputId": "57f1bde0-3199-418c-f59c-e77f67f452f5"
      },
      "source": [
        "from google.colab import drive\n",
        "drive.mount('/content/drive')"
      ],
      "execution_count": 2,
      "outputs": [
        {
          "output_type": "stream",
          "name": "stdout",
          "text": [
            "Mounted at /content/drive\n"
          ]
        }
      ]
    },
    {
      "cell_type": "code",
      "metadata": {
        "id": "H60p8LaC_20j",
        "colab": {
          "base_uri": "https://localhost:8080/"
        },
        "outputId": "f9140098-5a32-4417-f3b7-476ae57b2c1d"
      },
      "source": [
        "cd/content/drive/MyDrive/Colab_Notebooks/deeplearningbro/pytorch"
      ],
      "execution_count": 3,
      "outputs": [
        {
          "output_type": "stream",
          "name": "stdout",
          "text": [
            "/content/drive/MyDrive/Colab_Notebooks/deeplearningbro/pytorch\n"
          ]
        }
      ]
    },
    {
      "cell_type": "code",
      "metadata": {
        "id": "xABSoi33-Zde",
        "colab": {
          "base_uri": "https://localhost:8080/"
        },
        "outputId": "87e88b98-dea3-47ba-8174-0353928aeb73"
      },
      "source": [
        "transform = transforms.Compose(\n",
        "    [transforms.ToTensor(),\n",
        "     transforms.Normalize((0.5, 0.5, 0.5), (0.5, 0.5, 0.5))])\n",
        "\n",
        "dataset = torchvision.datasets.CIFAR10(root='./data', train=True,\n",
        "                                        download=True, transform=transform)\n",
        "\n",
        "trainset, valset = torch.utils.data.random_split(dataset, [30000, 20000]) # 3만개 : train / 2만개 : valid\n",
        "\n",
        "trainloader = torch.utils.data.DataLoader(trainset, batch_size=32, shuffle=True) \n",
        "valloader = torch.utils.data.DataLoader(valset, batch_size=32, shuffle=False) \n",
        "\n",
        "testset = torchvision.datasets.CIFAR10(root='./data', train=False,\n",
        "                                       download=True, transform=transform)\n",
        "testloader = torch.utils.data.DataLoader(testset, batch_size=32, shuffle=False)"
      ],
      "execution_count": 4,
      "outputs": [
        {
          "output_type": "stream",
          "name": "stdout",
          "text": [
            "Files already downloaded and verified\n",
            "Files already downloaded and verified\n"
          ]
        }
      ]
    },
    {
      "cell_type": "code",
      "metadata": {
        "id": "v-Y1BQPG-Zde",
        "colab": {
          "base_uri": "https://localhost:8080/"
        },
        "outputId": "cbae9689-d68a-4e6b-d8c7-82f169e559ad"
      },
      "source": [
        "# CPU/GPU\n",
        "device = torch.device(\"cuda:0\" if torch.cuda.is_available() else \"cpu\")\n",
        "print(f'{device} is available.')"
      ],
      "execution_count": 5,
      "outputs": [
        {
          "output_type": "stream",
          "name": "stdout",
          "text": [
            "cuda:0 is available.\n"
          ]
        }
      ]
    },
    {
      "cell_type": "code",
      "metadata": {
        "id": "zwWpgYCC-Zdg"
      },
      "source": [
        "class ResidualBlock(nn.Module):\n",
        "\n",
        "    def __init__(self, in_channels, out_channels, stride=1):\n",
        "        super(ResidualBlock, self).__init__()\n",
        "        self.stride = stride\n",
        "        self.in_channels = in_channels\n",
        "        self.out_channels = out_channels\n",
        "        self.conv_block = nn.Sequential(\n",
        "            nn.Conv2d(self.in_channels, self.out_channels, kernel_size=3, stride=stride, padding=1, bias=False),\n",
        "            nn.BatchNorm2d(self.out_channels),\n",
        "            nn.ReLU(),\n",
        "            nn.Conv2d(self.out_channels, self.out_channels, kernel_size=3, stride=1, padding=1, bias=False),\n",
        "            nn.BatchNorm2d(self.out_channels))\n",
        "\n",
        "        if self.stride != 1 or self.in_channels != self.out_channels:\n",
        "            self.downsample = nn.Sequential(\n",
        "                            nn.Conv2d(self.in_channels, self.out_channels, kernel_size=1, stride=stride, bias=False),\n",
        "                            nn.BatchNorm2d(self.out_channels))\n",
        "\n",
        "    def forward(self, x):\n",
        "        out = self.conv_block(x)\n",
        "        if self.stride != 1 or self.in_channels != self.out_channels:\n",
        "            x = self.downsample(x)\n",
        "\n",
        "        out = F.relu(x + out)\n",
        "        return out"
      ],
      "execution_count": 6,
      "outputs": []
    },
    {
      "cell_type": "code",
      "metadata": {
        "id": "BIlP_Ptz-Zdh"
      },
      "source": [
        "class ResNet(nn.Module):\n",
        "    def __init__(self, num_blocks, num_classes=10):\n",
        "        super(ResNet, self).__init__()\n",
        "        self.in_channels = 64\n",
        "        self.base = nn.Sequential(\n",
        "                        nn.Conv2d(3, 64, kernel_size=3,stride=1, padding=1, bias=False),\n",
        "                        nn.BatchNorm2d(64),\n",
        "                        nn.ReLU())\n",
        "        self.layer1 = self._make_layer(64, num_blocks[0], stride=1)\n",
        "        self.layer2 = self._make_layer(128, num_blocks[1], stride=2)\n",
        "        self.layer3 = self._make_layer(256, num_blocks[2], stride=2)\n",
        "        self.layer4 = self._make_layer(512, num_blocks[3], stride=2)\n",
        "        self.gap = nn.AvgPool2d(4) # 4: 필터 사이즈\n",
        "        self.fc = nn.Linear(512, num_classes)\n",
        "\n",
        "    def _make_layer(self, out_channels, num_blocks, stride):\n",
        "        \n",
        "        strides = [stride] + [1]*(num_blocks-1)\n",
        "        layers = []\n",
        "        for stride in strides:\n",
        "            block = ResidualBlock(self.in_channels, out_channels, stride)\n",
        "            layers.append(block)\n",
        "            self.in_channels = out_channels\n",
        "    \n",
        "        return nn.Sequential(*layers)\n",
        "\n",
        "    def forward(self, x):\n",
        "        out = self.base(x)\n",
        "        out = self.layer1(out)\n",
        "        out = self.layer2(out)\n",
        "        out = self.layer3(out)\n",
        "        out = self.layer4(out)\n",
        "        out = self.gap(out)\n",
        "        out = out.view(out.size(0), -1)\n",
        "        out = self.fc(out)\n",
        "        return out\n",
        "\n",
        "def modeltype(model):\n",
        "    if model == 'resnet18':\n",
        "        return ResNet([2, 2, 2, 2])\n",
        "\n",
        "    elif model == 'resnet34':\n",
        "        return ResNet([3, 4, 6, 3])\n",
        "\n"
      ],
      "execution_count": 7,
      "outputs": []
    },
    {
      "cell_type": "code",
      "metadata": {
        "id": "18HfoE6j-Zdi"
      },
      "source": [
        "resnet = modeltype('resnet18').to(device)"
      ],
      "execution_count": 8,
      "outputs": []
    },
    {
      "cell_type": "code",
      "metadata": {
        "id": "arkqDLTz_20n"
      },
      "source": [
        "#print(resnet)\n",
        "PATH = './models/cifar_resnet_early.pth' # 모델 저장 경로 "
      ],
      "execution_count": 9,
      "outputs": []
    },
    {
      "cell_type": "code",
      "metadata": {
        "id": "ofSZdnBz-Zdj"
      },
      "source": [
        "criterion = nn.CrossEntropyLoss()\n",
        "optimizer = optim.Adam(resnet.parameters(), lr=1e-3)"
      ],
      "execution_count": 10,
      "outputs": []
    },
    {
      "cell_type": "code",
      "metadata": {
        "id": "rFDlEXzG_20o"
      },
      "source": [
        "def validation_loss(dataloader):\n",
        "    n = len(dataloader)\n",
        "    running_loss = 0.0\n",
        "    with torch.no_grad():\n",
        "        resnet.eval() # 학습 중간중간 체크 되기 때문에\n",
        "        for data in dataloader:\n",
        "            images, labels = data[0].to(device), data[1].to(device)\n",
        "            outputs = resnet(images)\n",
        "            loss = criterion(outputs, labels)\n",
        "            running_loss += loss.item()\n",
        "    resnet.train()\n",
        "\n",
        "    return running_loss / n # 평균 loss"
      ],
      "execution_count": 12,
      "outputs": []
    },
    {
      "cell_type": "code",
      "metadata": {
        "id": "0J0COt6Q-Zdk",
        "colab": {
          "base_uri": "https://localhost:8080/"
        },
        "outputId": "ee872fe4-3605-41c2-f32f-01c0c0c9d5ec"
      },
      "source": [
        "train_loss_list = [] # 그래프를 그리기 위한 loss 저장용 리스트 \n",
        "val_loss_list = []\n",
        "n = len(trainloader) # 배치 개수\n",
        "early_stopping_loss = 1\n",
        "for epoch in range(51): \n",
        "\n",
        "    running_loss = 0.0\n",
        "    for data in trainloader:\n",
        "\n",
        "        inputs, labels = data[0].to(device), data[1].to(device) # 배치 데이터 \n",
        "        \n",
        "        optimizer.zero_grad()\n",
        "        outputs = resnet(inputs) # 예측값 산출 \n",
        "        loss = criterion(outputs, labels) # 손실함수 계산\n",
        "        loss.backward() # 손실함수 기준으로 역전파 선언\n",
        "        optimizer.step() # 가중치 최적화\n",
        "\n",
        "        # print statistics\n",
        "        running_loss += loss.item()\n",
        "\n",
        "    train_loss = running_loss / n\n",
        "    train_loss_list.append(train_loss)    \n",
        "    val_loss = validation_loss(valloader) # 함수\n",
        "    val_loss_list.append(val_loss)\n",
        "    \n",
        "    print('[%d] train loss: %.3f , validation loss: %.3f' %(epoch + 1, train_loss, val_loss))\n",
        "    \n",
        "    # val_loss를 기준으로 했을 때 가장 작은 값이 save되도록 if문\n",
        "    if val_loss < early_stopping_loss:\n",
        "        torch.save(resnet.state_dict(), PATH)\n",
        "        early_stopping_train_loss = train_loss\n",
        "        early_stopping_val_loss = val_loss\n",
        "        early_stopping_epoch = epoch\n",
        "        \n",
        "print('Final pretrained model >> [%d] train loss: %.3f , validation loss: %.3f' %(early_stopping_epoch + 1, \n",
        "                                                        early_stopping_train_loss, early_stopping_val_loss))\n"
      ],
      "execution_count": 13,
      "outputs": [
        {
          "output_type": "stream",
          "name": "stdout",
          "text": [
            "[1] train loss: 1.553 , validation loss: 1.317\n",
            "[2] train loss: 1.081 , validation loss: 1.138\n",
            "[3] train loss: 0.820 , validation loss: 0.782\n",
            "[4] train loss: 0.653 , validation loss: 0.659\n",
            "[5] train loss: 0.517 , validation loss: 0.625\n",
            "[6] train loss: 0.401 , validation loss: 0.668\n",
            "[7] train loss: 0.297 , validation loss: 0.679\n",
            "[8] train loss: 0.215 , validation loss: 0.775\n",
            "[9] train loss: 0.153 , validation loss: 0.791\n",
            "[10] train loss: 0.119 , validation loss: 0.789\n",
            "[11] train loss: 0.097 , validation loss: 0.885\n",
            "[12] train loss: 0.081 , validation loss: 0.939\n",
            "[13] train loss: 0.071 , validation loss: 0.903\n",
            "[14] train loss: 0.062 , validation loss: 0.891\n",
            "[15] train loss: 0.059 , validation loss: 0.912\n",
            "[16] train loss: 0.052 , validation loss: 0.898\n",
            "[17] train loss: 0.042 , validation loss: 1.077\n",
            "[18] train loss: 0.048 , validation loss: 1.136\n",
            "[19] train loss: 0.047 , validation loss: 1.052\n",
            "[20] train loss: 0.034 , validation loss: 1.101\n",
            "[21] train loss: 0.044 , validation loss: 1.017\n",
            "[22] train loss: 0.029 , validation loss: 1.022\n",
            "[23] train loss: 0.034 , validation loss: 1.002\n",
            "[24] train loss: 0.033 , validation loss: 1.262\n",
            "[25] train loss: 0.029 , validation loss: 1.027\n",
            "[26] train loss: 0.031 , validation loss: 1.059\n",
            "[27] train loss: 0.024 , validation loss: 1.077\n",
            "[28] train loss: 0.030 , validation loss: 1.050\n",
            "[29] train loss: 0.023 , validation loss: 1.092\n",
            "[30] train loss: 0.024 , validation loss: 1.054\n",
            "[31] train loss: 0.025 , validation loss: 1.024\n",
            "[32] train loss: 0.017 , validation loss: 1.143\n",
            "[33] train loss: 0.027 , validation loss: 1.118\n",
            "[34] train loss: 0.023 , validation loss: 1.057\n",
            "[35] train loss: 0.018 , validation loss: 1.101\n",
            "[36] train loss: 0.020 , validation loss: 1.125\n",
            "[37] train loss: 0.017 , validation loss: 1.104\n",
            "[38] train loss: 0.017 , validation loss: 1.103\n",
            "[39] train loss: 0.019 , validation loss: 1.161\n",
            "[40] train loss: 0.020 , validation loss: 1.132\n",
            "[41] train loss: 0.016 , validation loss: 1.089\n",
            "[42] train loss: 0.014 , validation loss: 1.213\n",
            "[43] train loss: 0.016 , validation loss: 1.100\n",
            "[44] train loss: 0.019 , validation loss: 1.125\n",
            "[45] train loss: 0.010 , validation loss: 1.072\n",
            "[46] train loss: 0.016 , validation loss: 1.226\n",
            "[47] train loss: 0.016 , validation loss: 1.166\n",
            "[48] train loss: 0.012 , validation loss: 1.165\n",
            "[49] train loss: 0.017 , validation loss: 1.192\n",
            "[50] train loss: 0.012 , validation loss: 1.152\n",
            "[51] train loss: 0.012 , validation loss: 1.103\n",
            "Final pretrained model >> [16] train loss: 0.052 , validation loss: 0.898\n"
          ]
        }
      ]
    },
    {
      "cell_type": "code",
      "metadata": {
        "id": "vMgRW3dU-Zdm",
        "colab": {
          "base_uri": "https://localhost:8080/",
          "height": 295
        },
        "outputId": "16dcc336-8b3a-4b5a-9b53-d2b05a244bb4"
      },
      "source": [
        "plt.plot(train_loss_list)\n",
        "plt.plot(val_loss_list)\n",
        "plt.legend(['train','validation'])\n",
        "plt.title(\"Loss\")\n",
        "plt.xlabel(\"epoch\")\n",
        "plt.show()"
      ],
      "execution_count": 14,
      "outputs": [
        {
          "output_type": "display_data",
          "data": {
            "text/plain": [
              "<Figure size 432x288 with 1 Axes>"
            ],
            "image/png": "[encoded data removed]"
          },
          "metadata": {
            "needs_background": "light"
          }
        }
      ]
    },
    {
      "cell_type": "code",
      "metadata": {
        "id": "YR4Dhuux-Zdn",
        "colab": {
          "base_uri": "https://localhost:8080/"
        },
        "outputId": "526e6420-f0ab-4aca-df5b-d0c450d2ea54"
      },
      "source": [
        "# 51 epoch 한 모델이 아니라 best 모델 파라미터를 불러오기\n",
        "\n",
        "resnet = modeltype('resnet18').to(device)\n",
        "resnet.load_state_dict(torch.load(PATH)) # 모델 파라메타 불러오기"
      ],
      "execution_count": 15,
      "outputs": [
        {
          "output_type": "execute_result",
          "data": {
            "text/plain": [
              "<All keys matched successfully>"
            ]
          },
          "metadata": {},
          "execution_count": 15
        }
      ]
    },
    {
      "cell_type": "code",
      "metadata": {
        "id": "J05sm8Wp-Zdn",
        "colab": {
          "base_uri": "https://localhost:8080/"
        },
        "outputId": "99697910-c165-4756-8a91-6e9fa78fe23d"
      },
      "source": [
        "# 평가 데이터를 이용해 최종적으로 정확도를 구해보자.\n",
        "# output은 미니배치의 결과가 산출되기 때문에 for문을 통해서 test 전체의 예측값을 구한다.\n",
        "\n",
        "correct = 0\n",
        "total = 0\n",
        "with torch.no_grad():\n",
        "    resnet.eval()\n",
        "    for data in testloader:\n",
        "        images, labels = data[0].to(device), data[1].to(device)\n",
        "        outputs = resnet(images)\n",
        "        _, predicted = torch.max(outputs.data, 1)\n",
        "        total += labels.size(0) # 개수 누적(총 개수)\n",
        "        correct += (predicted == labels).sum().item() # 누적(맞으면 1, 틀리면 0으로 합산)\n",
        "        \n",
        "print('Test accuracy: %.2f %%' % (100 * correct / total))\n",
        "\n",
        "# ResNet (overfitting): 75.57 %\n",
        "# ResNet (ealy stopping): 76.22 %"
      ],
      "execution_count": 16,
      "outputs": [
        {
          "output_type": "stream",
          "name": "stdout",
          "text": [
            "Test accuracy: 81.56 %\n"
          ]
        }
      ]
    },
    {
      "cell_type": "code",
      "metadata": {
        "id": "B0ZqB18jcCxM"
      },
      "source": [
        ""
      ],
      "execution_count": null,
      "outputs": []
    }
  ]
}