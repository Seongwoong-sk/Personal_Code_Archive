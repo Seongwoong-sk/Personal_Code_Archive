{
  "cells": [
    {
      "cell_type": "markdown",
      "source": [
        "# 9. 모델 프리징(Model Freezing)\n",
        "\n",
        "전이 학습 중 잘 학습 된 모델을 가져와 우리 연구에 사용할 수 있다. **데이터가 유사한 경우에는 추가적인 전체 학습 없이도 좋은 성능이 나올 수 있다. 따라서 피쳐 추출에 해당하는 합성곱 층의 변수를 업데이트 하지 않고 분류 파트에 해당하는 fully connected layer의 변수만 업데이트 할 수 있는데 이 때 변수가 업데이트 되지 않게 변수를 얼린다고 하여 이를 프리징(Freezing)이라고 한다.**"
      ],
      "metadata": {
        "id": "l2DZdiKDPKuz"
      }
    },
    {
      "cell_type": "code",
      "execution_count": 1,
      "metadata": {
        "id": "fpraZs6QPKu4"
      },
      "outputs": [],
      "source": [
        "import torch\n",
        "import torchvision\n",
        "import torchvision.transforms as transforms\n",
        "from torch.utils.data import DataLoader\n",
        "\n",
        "import torch.nn as nn\n",
        "import torch.optim as optim"
      ]
    },
    {
      "cell_type": "markdown",
      "metadata": {
        "id": "50Gu5ICJPKu5"
      },
      "source": [
        "## 9.1 GPU 연산 확인\n",
        "빠른 병렬 처리를 위하여 CPU보다는 GPU연산이 사용된다. CUDA를 사용할 수 있는 NVIDIA 그래픽이 있다면 CUDA 버전과 torch 버전을 맞춰 본인의 컴퓨터를 세팅하도록 한다. 우리는 이런 수고스러움을 덜기 위해 무료로 GPU 연산을 제공하는 Google Colaboratory(이하 코랩)을 이용할 것이다. 코랩은 별도의 설치 없이 누구나 무료로 GPU를 사용할 수 있다."
      ]
    },
    {
      "cell_type": "code",
      "execution_count": 2,
      "metadata": {
        "id": "xMHb45kHPKu5",
        "colab": {
          "base_uri": "https://localhost:8080/"
        },
        "outputId": "785f336c-8bdb-4671-e16c-da7835c37237"
      },
      "outputs": [
        {
          "output_type": "stream",
          "name": "stdout",
          "text": [
            "cuda:0\n"
          ]
        }
      ],
      "source": [
        "# GPU vs CPU\n",
        "# 현재 가능한 장치를 확인한다.\n",
        "device = torch.device(\"cuda:0\" if torch.cuda.is_available() else \"cpu\")\n",
        "print(device)"
      ]
    },
    {
      "cell_type": "markdown",
      "metadata": {
        "id": "0wRx_1Y3PKu6"
      },
      "source": [
        "## 9.2 CIFAR10 데이터 불러오기"
      ]
    },
    {
      "cell_type": "code",
      "execution_count": 3,
      "metadata": {
        "id": "Q6ZXgljyPKu6",
        "colab": {
          "base_uri": "https://localhost:8080/",
          "height": 123,
          "referenced_widgets": [
            "df9af51272f44786abbc8259921e7de5",
            "d5660af2a3614db7a0446d7727c58874",
            "c1a7beca5908453abfbcb9527f347cdc",
            "63b23282c59b4c16b51edf79a625969f",
            "4cfd919e60374aaa9c94f442ef54c732",
            "ab5412ed4f24485c8573fdba7720ea45",
            "2b1919be2a6a46a1bd7ed2a9b00ae48f",
            "ebb456ebe7554b2baa4cc12a4852d440",
            "83ea3cbda4b349d6bbdf7b7c673dac22",
            "0aa6efdee84a4a71a823f206fae1f141",
            "eed6ac874932465e82b9018ececcbff6"
          ]
        },
        "outputId": "5330bed5-b344-4044-ec8a-b7bf6e9fa6e9"
      },
      "outputs": [
        {
          "output_type": "stream",
          "name": "stdout",
          "text": [
            "Downloading https://www.cs.toronto.edu/~kriz/cifar-10-python.tar.gz to ./data/cifar-10-python.tar.gz\n"
          ]
        },
        {
          "output_type": "display_data",
          "data": {
            "text/plain": [
              "  0%|          | 0/170498071 [00:00<?, ?it/s]"
            ],
            "application/vnd.jupyter.widget-view+json": {
              "version_major": 2,
              "version_minor": 0,
              "model_id": "df9af51272f44786abbc8259921e7de5"
            }
          },
          "metadata": {}
        },
        {
          "output_type": "stream",
          "name": "stdout",
          "text": [
            "Extracting ./data/cifar-10-python.tar.gz to ./data\n",
            "Files already downloaded and verified\n"
          ]
        }
      ],
      "source": [
        "# 데이터 불러오기 및 전처리 작업\n",
        "transform = transforms.Compose(\n",
        "    [transforms.RandomCrop(32, padding=4),\n",
        "     transforms.ToTensor(),\n",
        "     transforms.Normalize((0.5, 0.5, 0.5), (0.5, 0.5, 0.5))])\n",
        "\n",
        "test_transform = transforms.Compose(\n",
        "    [transforms.ToTensor(),\n",
        "     transforms.Normalize((0.5, 0.5, 0.5), (0.5, 0.5, 0.5))])\n",
        "\n",
        "trainset = torchvision.datasets.CIFAR10(root='./data', train=True,\n",
        "                                        download=True, transform=transform)\n",
        "\n",
        "trainloader = torch.utils.data.DataLoader(trainset, batch_size=16, shuffle=True) \n",
        "\n",
        "testset = torchvision.datasets.CIFAR10(root='./data', train=False, download=True, transform=test_transform)\n",
        "testloader = torch.utils.data.DataLoader(testset, batch_size=16,shuffle=False)\n",
        "\n",
        "# Class\n",
        "#'plane', 'car', 'bird', 'cat', 'deer', 'dog', 'frog', 'horse', 'ship', 'truck'"
      ]
    },
    {
      "cell_type": "markdown",
      "metadata": {
        "id": "tPzKqg2ePKu6"
      },
      "source": [
        "### 9.3 Pretrained model 불러오기\n",
        "파이토치에서는 다양한 사전 학습 된 모델을 제공하고 있다.\n",
        "https://pytorch.org/docs/stable/torchvision/models.html"
      ]
    },
    {
      "cell_type": "code",
      "execution_count": 4,
      "metadata": {
        "id": "vbEc_91mPKu7",
        "colab": {
          "base_uri": "https://localhost:8080/",
          "height": 87,
          "referenced_widgets": [
            "9c1b3bb6a9c54e289cfa6fe06332b069",
            "4698d3e2a58e4cf7bb488f57032c8f9e",
            "6e59e45bc8a3464db7d84564c4ee11d2",
            "3e579357d1fb4eafbb080193c74b1725",
            "999976fb78a44739b6240aa4332cf6eb",
            "80cc71c9bd6e46579205079d5a3c328f",
            "7ea077aed83447888b104a9f104538ba",
            "866abbf74b0244c7ab0276e917ce0032",
            "a206e8fd6f9c49aa81e89fc3008d6001",
            "cdd6b36652ac4e54a0b6628f95f8a1a9",
            "724f0a5034644418aff50e2bafe5db55"
          ]
        },
        "outputId": "9654efff-4554-40eb-8ef8-5da18773cd84"
      },
      "outputs": [
        {
          "output_type": "stream",
          "name": "stderr",
          "text": [
            "Downloading: \"https://download.pytorch.org/models/alexnet-owt-7be5be79.pth\" to /root/.cache/torch/hub/checkpoints/alexnet-owt-7be5be79.pth\n"
          ]
        },
        {
          "output_type": "display_data",
          "data": {
            "text/plain": [
              "  0%|          | 0.00/233M [00:00<?, ?B/s]"
            ],
            "application/vnd.jupyter.widget-view+json": {
              "version_major": 2,
              "version_minor": 0,
              "model_id": "9c1b3bb6a9c54e289cfa6fe06332b069"
            }
          },
          "metadata": {}
        }
      ],
      "source": [
        "# AlexNet 불러오기 \n",
        "# pretrained=True를 하면 AlexNet 구조와 사전 학습 된 파라메타를 모두 불러온다.\n",
        "# pretrained=False를 하면 AlexNet 구조만 불러온다.\n",
        "\n",
        "model = torchvision.models.alexnet(pretrained=True)"
      ]
    },
    {
      "cell_type": "code",
      "execution_count": 6,
      "metadata": {
        "id": "I0OgsRulPKu7"
      },
      "outputs": [],
      "source": [
        "# 모델의 구조를 보면 마지막 출력 노드가 1000개라는 것을 알 수 있다. \n",
        "# 이는 1000개의 클래스를 가진 ImageNet 데이터를 이용하여 사전학습 된 모델이기 때문이다. \n",
        "# 따라서 우리가 사용하는 CIFAR10 데이터에 맞게 출력층의 노드를 10개로 변경해야만 한다.\n",
        "\n",
        "num_ftrs = model.classifier[6].in_features # fc의 입력 노드 수를 산출한다. \n",
        "model.features[0] = nn.Conv2d(3, 64, kernel_size=5, stride=1)\n",
        "model.classifier[6] = nn.Linear(num_ftrs, 10) # fc를 nn.Linear(num_ftrs, 10)로 대체한다.\n",
        "model = model.to(device)"
      ]
    },
    {
      "cell_type": "code",
      "execution_count": 7,
      "metadata": {
        "id": "HnbnCP7RPKu8",
        "colab": {
          "base_uri": "https://localhost:8080/"
        },
        "outputId": "8e4c855b-6480-4782-8b99-fdaf56fca6f4"
      },
      "outputs": [
        {
          "output_type": "stream",
          "name": "stdout",
          "text": [
            "AlexNet(\n",
            "  (features): Sequential(\n",
            "    (0): Conv2d(3, 64, kernel_size=(5, 5), stride=(1, 1))\n",
            "    (1): ReLU(inplace=True)\n",
            "    (2): MaxPool2d(kernel_size=3, stride=2, padding=0, dilation=1, ceil_mode=False)\n",
            "    (3): Conv2d(64, 192, kernel_size=(5, 5), stride=(1, 1), padding=(2, 2))\n",
            "    (4): ReLU(inplace=True)\n",
            "    (5): MaxPool2d(kernel_size=3, stride=2, padding=0, dilation=1, ceil_mode=False)\n",
            "    (6): Conv2d(192, 384, kernel_size=(3, 3), stride=(1, 1), padding=(1, 1))\n",
            "    (7): ReLU(inplace=True)\n",
            "    (8): Conv2d(384, 256, kernel_size=(3, 3), stride=(1, 1), padding=(1, 1))\n",
            "    (9): ReLU(inplace=True)\n",
            "    (10): Conv2d(256, 256, kernel_size=(3, 3), stride=(1, 1), padding=(1, 1))\n",
            "    (11): ReLU(inplace=True)\n",
            "    (12): MaxPool2d(kernel_size=3, stride=2, padding=0, dilation=1, ceil_mode=False)\n",
            "  )\n",
            "  (avgpool): AdaptiveAvgPool2d(output_size=(6, 6))\n",
            "  (classifier): Sequential(\n",
            "    (0): Dropout(p=0.5, inplace=False)\n",
            "    (1): Linear(in_features=9216, out_features=4096, bias=True)\n",
            "    (2): ReLU(inplace=True)\n",
            "    (3): Dropout(p=0.5, inplace=False)\n",
            "    (4): Linear(in_features=4096, out_features=4096, bias=True)\n",
            "    (5): ReLU(inplace=True)\n",
            "    (6): Linear(in_features=4096, out_features=10, bias=True)\n",
            "  )\n",
            ")\n"
          ]
        }
      ],
      "source": [
        "# 출력층의 노드가 10개로 바껴있다.\n",
        "print(model)"
      ]
    },
    {
      "cell_type": "markdown",
      "metadata": {
        "id": "pYuT_E2iPKu8"
      },
      "source": [
        "## 9.4 모델 프리징"
      ]
    },
    {
      "cell_type": "code",
      "execution_count": 10,
      "metadata": {
        "id": "PV617SVIPKu8",
        "colab": {
          "base_uri": "https://localhost:8080/"
        },
        "outputId": "01babb40-f1f6-42f8-9c9b-3ad6468724cd"
      },
      "outputs": [
        {
          "output_type": "stream",
          "name": "stdout",
          "text": [
            "0 :  features.0.weight\n",
            "1 :  features.0.bias\n",
            "2 :  features.3.weight\n",
            "3 :  features.3.bias\n",
            "4 :  features.6.weight\n",
            "5 :  features.6.bias\n",
            "6 :  features.8.weight\n",
            "7 :  features.8.bias\n",
            "8 :  features.10.weight\n",
            "9 :  features.10.bias\n",
            "10 :  classifier.1.weight\n",
            "11 :  classifier.1.bias\n",
            "12 :  classifier.4.weight\n",
            "13 :  classifier.4.bias\n",
            "14 :  classifier.6.weight\n",
            "15 :  classifier.6.bias\n"
          ]
        }
      ],
      "source": [
        "# 파라메타 번호 확인 하기\n",
        "# ReLU나 Maxpool은 변수가 없는 연산\n",
        "# ReLU는 음수를 0으로, 양수는 보존함\n",
        "# MaxPool은 최댓값을 뽑아내는 과정이므로 가중치가 없음\n",
        "\n",
        "\n",
        "i = 0              # model에 있는 파라미터와 그 이름 :: 변수만 나옴\n",
        "for name, param in model.named_parameters():\n",
        "    \n",
        "    print(i ,': ',name)\n",
        "    i+= 1"
      ]
    },
    {
      "cell_type": "markdown",
      "source": [
        "weight : 가중치 연산 \n",
        "--> named_parameters()를 통해서 weight(가중치) 연산이 있는 feature의 이름과 번호를 확인할 수 있음"
      ],
      "metadata": {
        "id": "XuBTfsof3mfH"
      }
    },
    {
      "cell_type": "code",
      "execution_count": 11,
      "metadata": {
        "id": "eVXalOTpPKu9",
        "colab": {
          "base_uri": "https://localhost:8080/"
        },
        "outputId": "7e57e061-fe63-48a3-d427-45eb31fe60d7"
      },
      "outputs": [
        {
          "output_type": "stream",
          "name": "stdout",
          "text": [
            "end\n"
          ]
        }
      ],
      "source": [
        "# 합성곱 층은 0~9까지이다. 따라서 9번째 변수까지 역추적을 비활성화(Freezing) 한 후 for문을 종료한다.\n",
        "\n",
        "for i, (name, param) in enumerate(model.named_parameters()):\n",
        "    \n",
        "    # gradient 계산 비활성화 \n",
        "    param.requires_grad = False # inplace 방식으로 들어감\n",
        "    if i == 9:\n",
        "        print('end')\n",
        "        break"
      ]
    },
    {
      "cell_type": "code",
      "execution_count": 14,
      "metadata": {
        "id": "yHfeg5DrPKu9",
        "colab": {
          "base_uri": "https://localhost:8080/"
        },
        "outputId": "a9b1451a-487d-42b1-9cdd-a03aa3c811b9"
      },
      "outputs": [
        {
          "output_type": "stream",
          "name": "stdout",
          "text": [
            "Feature Extraction Freezed\n",
            "False\n",
            "False\n",
            "False\n",
            "False\n",
            "False\n",
            "False\n",
            "False\n",
            "False\n",
            "False\n",
            "False \n",
            "\n",
            "Classifier (Fully Connected Layer Not Freezed\n",
            "True\n",
            "True\n",
            "True\n",
            "True\n",
            "True\n",
            "True\n"
          ]
        }
      ],
      "source": [
        "# requires_grad 확인\n",
        "print('Feature Extraction Freezed')\n",
        "print(model.features[0].weight.requires_grad)\n",
        "print(model.features[0].bias.requires_grad)\n",
        "print(model.features[3].weight.requires_grad)\n",
        "print(model.features[3].bias.requires_grad)\n",
        "print(model.features[6].weight.requires_grad)\n",
        "print(model.features[6].bias.requires_grad)\n",
        "print(model.features[8].weight.requires_grad)\n",
        "print(model.features[8].bias.requires_grad)\n",
        "print(model.features[10].weight.requires_grad)\n",
        "print(model.features[10].bias.requires_grad, '\\n')\n",
        "print('Classifier (Fully Connected Layer Not Freezed')\n",
        "print(model.classifier[1].weight.requires_grad)\n",
        "print(model.classifier[1].bias.requires_grad)\n",
        "print(model.classifier[4].weight.requires_grad)\n",
        "print(model.classifier[4].bias.requires_grad)\n",
        "print(model.classifier[6].weight.requires_grad)\n",
        "print(model.classifier[6].bias.requires_grad)"
      ]
    },
    {
      "cell_type": "markdown",
      "metadata": {
        "id": "s5ugSm4HPKu9"
      },
      "source": [
        "## 9.5 손실함수와 최적화 방법 정의"
      ]
    },
    {
      "cell_type": "code",
      "execution_count": 15,
      "metadata": {
        "id": "S5-qUD77PKu-"
      },
      "outputs": [],
      "source": [
        "criterion = nn.CrossEntropyLoss()\n",
        "optimizer = optim.Adam(model.parameters(), lr=1e-4, weight_decay=1e-2)"
      ]
    },
    {
      "cell_type": "markdown",
      "metadata": {
        "id": "NBwexoRrPKu-"
      },
      "source": [
        "## 9.6 프리징 된 사전학습 모델을 이용한 학습"
      ]
    },
    {
      "cell_type": "code",
      "execution_count": 16,
      "metadata": {
        "id": "wn5Rz3VMPKu-",
        "colab": {
          "base_uri": "https://localhost:8080/"
        },
        "outputId": "fbb74863-62b1-4d56-aa37-9ec626b5f6c4"
      },
      "outputs": [
        {
          "output_type": "stream",
          "name": "stdout",
          "text": [
            "[1] loss: 1.898\n",
            "[2] loss: 1.842\n",
            "[3] loss: 1.830\n",
            "[4] loss: 1.823\n",
            "[5] loss: 1.818\n",
            "[6] loss: 1.810\n",
            "[7] loss: 1.806\n",
            "[8] loss: 1.802\n",
            "[9] loss: 1.803\n",
            "[10] loss: 1.803\n",
            "[11] loss: 1.799\n",
            "[12] loss: 1.798\n",
            "[12] loss: 1.798\n",
            "[13] loss: 1.798\n",
            "[13] loss: 1.798\n",
            "[14] loss: 1.798\n",
            "[14] loss: 1.798\n",
            "[15] loss: 1.794\n",
            "[15] loss: 1.794\n",
            "[16] loss: 1.794\n",
            "[16] loss: 1.794\n",
            "[17] loss: 1.791\n",
            "[17] loss: 1.791\n",
            "[18] loss: 1.798\n",
            "[18] loss: 1.798\n",
            "[19] loss: 1.791\n",
            "[19] loss: 1.791\n",
            "[20] loss: 1.790\n",
            "Finished Training\n",
            "[20] loss: 1.790\n",
            "Finished Training\n"
          ]
        }
      ],
      "source": [
        "for epoch in range(20):\n",
        "\n",
        "    running_loss = 0.0\n",
        "    for data in trainloader:\n",
        "        \n",
        "        inputs, labels = data[0].to(device), data[1].to(device)\n",
        "          \n",
        "        optimizer.zero_grad()\n",
        "        outputs = model(inputs)\n",
        "        loss = criterion(outputs, labels)\n",
        "        loss.backward()\n",
        "        optimizer.step()\n",
        "\n",
        "        running_loss += loss.item()\n",
        "\n",
        "    cost = running_loss / len(trainloader)        \n",
        "    print('[%d] loss: %.3f' %(epoch + 1, cost))  \n",
        "   \n",
        "\n",
        "print('Finished Training')"
      ]
    },
    {
      "cell_type": "markdown",
      "metadata": {
        "id": "4a41tdlaPKu_"
      },
      "source": [
        "## 9.7 모델 평가"
      ]
    },
    {
      "cell_type": "code",
      "execution_count": 17,
      "metadata": {
        "id": "N6BDIebgPKu_",
        "colab": {
          "base_uri": "https://localhost:8080/"
        },
        "outputId": "b122f8bb-6f2d-4f47-90c1-f81cb36dd711"
      },
      "outputs": [
        {
          "output_type": "stream",
          "name": "stdout",
          "text": [
            "Accuracy of the network on the 10000 test images: 37 %\n",
            "Accuracy of the network on the 10000 test images: 37 %\n"
          ]
        }
      ],
      "source": [
        "correct = 0\n",
        "total = 0\n",
        "with torch.no_grad():\n",
        "    model.eval()\n",
        "    for data in testloader:\n",
        "        images, labels = data[0].to(device), data[1].to(device)\n",
        "        outputs = model(images)\n",
        "        _, predicted = torch.max(outputs.data, 1)\n",
        "        total += labels.size(0)\n",
        "        correct += (predicted == labels).sum().item()\n",
        "\n",
        "print('Accuracy of the network on the 10000 test images: %d %%' % (100 * correct / total))"
      ]
    }
  ],
  "metadata": {
    "accelerator": "GPU",
    "colab": {
      "collapsed_sections": [],
      "name": "9강 Model Freezing.ipynb",
      "provenance": [],
      "machine_shape": "hm"
    },
    "kernelspec": {
      "display_name": "Python 3",
      "language": "python",
      "name": "python3"
    },
    "language_info": {
      "codemirror_mode": {
        "name": "ipython",
        "version": 3
      },
      "file_extension": ".py",
      "mimetype": "text/x-python",
      "name": "python",
      "nbconvert_exporter": "python",
      "pygments_lexer": "ipython3",
      "version": "3.7.4"
    },
    "widgets": {
      "application/vnd.jupyter.widget-state+json": {
        "df9af51272f44786abbc8259921e7de5": {
          "model_module": "@jupyter-widgets/controls",
          "model_name": "HBoxModel",
          "model_module_version": "1.5.0",
          "state": {
            "_dom_classes": [],
            "_model_module": "@jupyter-widgets/controls",
            "_model_module_version": "1.5.0",
            "_model_name": "HBoxModel",
            "_view_count": null,
            "_view_module": "@jupyter-widgets/controls",
            "_view_module_version": "1.5.0",
            "_view_name": "HBoxView",
            "box_style": "",
            "children": [
              "IPY_MODEL_d5660af2a3614db7a0446d7727c58874",
              "IPY_MODEL_c1a7beca5908453abfbcb9527f347cdc",
              "IPY_MODEL_63b23282c59b4c16b51edf79a625969f"
            ],
            "layout": "IPY_MODEL_4cfd919e60374aaa9c94f442ef54c732"
          }
        },
        "d5660af2a3614db7a0446d7727c58874": {
          "model_module": "@jupyter-widgets/controls",
          "model_name": "HTMLModel",
          "model_module_version": "1.5.0",
          "state": {
            "_dom_classes": [],
            "_model_module": "@jupyter-widgets/controls",
            "_model_module_version": "1.5.0",
            "_model_name": "HTMLModel",
            "_view_count": null,
            "_view_module": "@jupyter-widgets/controls",
            "_view_module_version": "1.5.0",
            "_view_name": "HTMLView",
            "description": "",
            "description_tooltip": null,
            "layout": "IPY_MODEL_ab5412ed4f24485c8573fdba7720ea45",
            "placeholder": "​",
            "style": "IPY_MODEL_2b1919be2a6a46a1bd7ed2a9b00ae48f",
            "value": ""
          }
        },
        "c1a7beca5908453abfbcb9527f347cdc": {
          "model_module": "@jupyter-widgets/controls",
          "model_name": "FloatProgressModel",
          "model_module_version": "1.5.0",
          "state": {
            "_dom_classes": [],
            "_model_module": "@jupyter-widgets/controls",
            "_model_module_version": "1.5.0",
            "_model_name": "FloatProgressModel",
            "_view_count": null,
            "_view_module": "@jupyter-widgets/controls",
            "_view_module_version": "1.5.0",
            "_view_name": "ProgressView",
            "bar_style": "success",
            "description": "",
            "description_tooltip": null,
            "layout": "IPY_MODEL_ebb456ebe7554b2baa4cc12a4852d440",
            "max": 170498071,
            "min": 0,
            "orientation": "horizontal",
            "style": "IPY_MODEL_83ea3cbda4b349d6bbdf7b7c673dac22",
            "value": 170498071
          }
        },
        "63b23282c59b4c16b51edf79a625969f": {
          "model_module": "@jupyter-widgets/controls",
          "model_name": "HTMLModel",
          "model_module_version": "1.5.0",
          "state": {
            "_dom_classes": [],
            "_model_module": "@jupyter-widgets/controls",
            "_model_module_version": "1.5.0",
            "_model_name": "HTMLModel",
            "_view_count": null,
            "_view_module": "@jupyter-widgets/controls",
            "_view_module_version": "1.5.0",
            "_view_name": "HTMLView",
            "description": "",
            "description_tooltip": null,
            "layout": "IPY_MODEL_0aa6efdee84a4a71a823f206fae1f141",
            "placeholder": "​",
            "style": "IPY_MODEL_eed6ac874932465e82b9018ececcbff6",
            "value": " 170499072/? [00:11&lt;00:00, 17263956.63it/s]"
          }
        },
        "4cfd919e60374aaa9c94f442ef54c732": {
          "model_module": "@jupyter-widgets/base",
          "model_name": "LayoutModel",
          "model_module_version": "1.2.0",
          "state": {
            "_model_module": "@jupyter-widgets/base",
            "_model_module_version": "1.2.0",
            "_model_name": "LayoutModel",
            "_view_count": null,
            "_view_module": "@jupyter-widgets/base",
            "_view_module_version": "1.2.0",
            "_view_name": "LayoutView",
            "align_content": null,
            "align_items": null,
            "align_self": null,
            "border": null,
            "bottom": null,
            "display": null,
            "flex": null,
            "flex_flow": null,
            "grid_area": null,
            "grid_auto_columns": null,
            "grid_auto_flow": null,
            "grid_auto_rows": null,
            "grid_column": null,
            "grid_gap": null,
            "grid_row": null,
            "grid_template_areas": null,
            "grid_template_columns": null,
            "grid_template_rows": null,
            "height": null,
            "justify_content": null,
            "justify_items": null,
            "left": null,
            "margin": null,
            "max_height": null,
            "max_width": null,
            "min_height": null,
            "min_width": null,
            "object_fit": null,
            "object_position": null,
            "order": null,
            "overflow": null,
            "overflow_x": null,
            "overflow_y": null,
            "padding": null,
            "right": null,
            "top": null,
            "visibility": null,
            "width": null
          }
        },
        "ab5412ed4f24485c8573fdba7720ea45": {
          "model_module": "@jupyter-widgets/base",
          "model_name": "LayoutModel",
          "model_module_version": "1.2.0",
          "state": {
            "_model_module": "@jupyter-widgets/base",
            "_model_module_version": "1.2.0",
            "_model_name": "LayoutModel",
            "_view_count": null,
            "_view_module": "@jupyter-widgets/base",
            "_view_module_version": "1.2.0",
            "_view_name": "LayoutView",
            "align_content": null,
            "align_items": null,
            "align_self": null,
            "border": null,
            "bottom": null,
            "display": null,
            "flex": null,
            "flex_flow": null,
            "grid_area": null,
            "grid_auto_columns": null,
            "grid_auto_flow": null,
            "grid_auto_rows": null,
            "grid_column": null,
            "grid_gap": null,
            "grid_row": null,
            "grid_template_areas": null,
            "grid_template_columns": null,
            "grid_template_rows": null,
            "height": null,
            "justify_content": null,
            "justify_items": null,
            "left": null,
            "margin": null,
            "max_height": null,
            "max_width": null,
            "min_height": null,
            "min_width": null,
            "object_fit": null,
            "object_position": null,
            "order": null,
            "overflow": null,
            "overflow_x": null,
            "overflow_y": null,
            "padding": null,
            "right": null,
            "top": null,
            "visibility": null,
            "width": null
          }
        },
        "2b1919be2a6a46a1bd7ed2a9b00ae48f": {
          "model_module": "@jupyter-widgets/controls",
          "model_name": "DescriptionStyleModel",
          "model_module_version": "1.5.0",
          "state": {
            "_model_module": "@jupyter-widgets/controls",
            "_model_module_version": "1.5.0",
            "_model_name": "DescriptionStyleModel",
            "_view_count": null,
            "_view_module": "@jupyter-widgets/base",
            "_view_module_version": "1.2.0",
            "_view_name": "StyleView",
            "description_width": ""
          }
        },
        "ebb456ebe7554b2baa4cc12a4852d440": {
          "model_module": "@jupyter-widgets/base",
          "model_name": "LayoutModel",
          "model_module_version": "1.2.0",
          "state": {
            "_model_module": "@jupyter-widgets/base",
            "_model_module_version": "1.2.0",
            "_model_name": "LayoutModel",
            "_view_count": null,
            "_view_module": "@jupyter-widgets/base",
            "_view_module_version": "1.2.0",
            "_view_name": "LayoutView",
            "align_content": null,
            "align_items": null,
            "align_self": null,
            "border": null,
            "bottom": null,
            "display": null,
            "flex": null,
            "flex_flow": null,
            "grid_area": null,
            "grid_auto_columns": null,
            "grid_auto_flow": null,
            "grid_auto_rows": null,
            "grid_column": null,
            "grid_gap": null,
            "grid_row": null,
            "grid_template_areas": null,
            "grid_template_columns": null,
            "grid_template_rows": null,
            "height": null,
            "justify_content": null,
            "justify_items": null,
            "left": null,
            "margin": null,
            "max_height": null,
            "max_width": null,
            "min_height": null,
            "min_width": null,
            "object_fit": null,
            "object_position": null,
            "order": null,
            "overflow": null,
            "overflow_x": null,
            "overflow_y": null,
            "padding": null,
            "right": null,
            "top": null,
            "visibility": null,
            "width": null
          }
        },
        "83ea3cbda4b349d6bbdf7b7c673dac22": {
          "model_module": "@jupyter-widgets/controls",
          "model_name": "ProgressStyleModel",
          "model_module_version": "1.5.0",
          "state": {
            "_model_module": "@jupyter-widgets/controls",
            "_model_module_version": "1.5.0",
            "_model_name": "ProgressStyleModel",
            "_view_count": null,
            "_view_module": "@jupyter-widgets/base",
            "_view_module_version": "1.2.0",
            "_view_name": "StyleView",
            "bar_color": null,
            "description_width": ""
          }
        },
        "0aa6efdee84a4a71a823f206fae1f141": {
          "model_module": "@jupyter-widgets/base",
          "model_name": "LayoutModel",
          "model_module_version": "1.2.0",
          "state": {
            "_model_module": "@jupyter-widgets/base",
            "_model_module_version": "1.2.0",
            "_model_name": "LayoutModel",
            "_view_count": null,
            "_view_module": "@jupyter-widgets/base",
            "_view_module_version": "1.2.0",
            "_view_name": "LayoutView",
            "align_content": null,
            "align_items": null,
            "align_self": null,
            "border": null,
            "bottom": null,
            "display": null,
            "flex": null,
            "flex_flow": null,
            "grid_area": null,
            "grid_auto_columns": null,
            "grid_auto_flow": null,
            "grid_auto_rows": null,
            "grid_column": null,
            "grid_gap": null,
            "grid_row": null,
            "grid_template_areas": null,
            "grid_template_columns": null,
            "grid_template_rows": null,
            "height": null,
            "justify_content": null,
            "justify_items": null,
            "left": null,
            "margin": null,
            "max_height": null,
            "max_width": null,
            "min_height": null,
            "min_width": null,
            "object_fit": null,
            "object_position": null,
            "order": null,
            "overflow": null,
            "overflow_x": null,
            "overflow_y": null,
            "padding": null,
            "right": null,
            "top": null,
            "visibility": null,
            "width": null
          }
        },
        "eed6ac874932465e82b9018ececcbff6": {
          "model_module": "@jupyter-widgets/controls",
          "model_name": "DescriptionStyleModel",
          "model_module_version": "1.5.0",
          "state": {
            "_model_module": "@jupyter-widgets/controls",
            "_model_module_version": "1.5.0",
            "_model_name": "DescriptionStyleModel",
            "_view_count": null,
            "_view_module": "@jupyter-widgets/base",
            "_view_module_version": "1.2.0",
            "_view_name": "StyleView",
            "description_width": ""
          }
        },
        "9c1b3bb6a9c54e289cfa6fe06332b069": {
          "model_module": "@jupyter-widgets/controls",
          "model_name": "HBoxModel",
          "model_module_version": "1.5.0",
          "state": {
            "_dom_classes": [],
            "_model_module": "@jupyter-widgets/controls",
            "_model_module_version": "1.5.0",
            "_model_name": "HBoxModel",
            "_view_count": null,
            "_view_module": "@jupyter-widgets/controls",
            "_view_module_version": "1.5.0",
            "_view_name": "HBoxView",
            "box_style": "",
            "children": [
              "IPY_MODEL_4698d3e2a58e4cf7bb488f57032c8f9e",
              "IPY_MODEL_6e59e45bc8a3464db7d84564c4ee11d2",
              "IPY_MODEL_3e579357d1fb4eafbb080193c74b1725"
            ],
            "layout": "IPY_MODEL_999976fb78a44739b6240aa4332cf6eb"
          }
        },
        "4698d3e2a58e4cf7bb488f57032c8f9e": {
          "model_module": "@jupyter-widgets/controls",
          "model_name": "HTMLModel",
          "model_module_version": "1.5.0",
          "state": {
            "_dom_classes": [],
            "_model_module": "@jupyter-widgets/controls",
            "_model_module_version": "1.5.0",
            "_model_name": "HTMLModel",
            "_view_count": null,
            "_view_module": "@jupyter-widgets/controls",
            "_view_module_version": "1.5.0",
            "_view_name": "HTMLView",
            "description": "",
            "description_tooltip": null,
            "layout": "IPY_MODEL_80cc71c9bd6e46579205079d5a3c328f",
            "placeholder": "​",
            "style": "IPY_MODEL_7ea077aed83447888b104a9f104538ba",
            "value": "100%"
          }
        },
        "6e59e45bc8a3464db7d84564c4ee11d2": {
          "model_module": "@jupyter-widgets/controls",
          "model_name": "FloatProgressModel",
          "model_module_version": "1.5.0",
          "state": {
            "_dom_classes": [],
            "_model_module": "@jupyter-widgets/controls",
            "_model_module_version": "1.5.0",
            "_model_name": "FloatProgressModel",
            "_view_count": null,
            "_view_module": "@jupyter-widgets/controls",
            "_view_module_version": "1.5.0",
            "_view_name": "ProgressView",
            "bar_style": "success",
            "description": "",
            "description_tooltip": null,
            "layout": "IPY_MODEL_866abbf74b0244c7ab0276e917ce0032",
            "max": 244408911,
            "min": 0,
            "orientation": "horizontal",
            "style": "IPY_MODEL_a206e8fd6f9c49aa81e89fc3008d6001",
            "value": 244408911
          }
        },
        "3e579357d1fb4eafbb080193c74b1725": {
          "model_module": "@jupyter-widgets/controls",
          "model_name": "HTMLModel",
          "model_module_version": "1.5.0",
          "state": {
            "_dom_classes": [],
            "_model_module": "@jupyter-widgets/controls",
            "_model_module_version": "1.5.0",
            "_model_name": "HTMLModel",
            "_view_count": null,
            "_view_module": "@jupyter-widgets/controls",
            "_view_module_version": "1.5.0",
            "_view_name": "HTMLView",
            "description": "",
            "description_tooltip": null,
            "layout": "IPY_MODEL_cdd6b36652ac4e54a0b6628f95f8a1a9",
            "placeholder": "​",
            "style": "IPY_MODEL_724f0a5034644418aff50e2bafe5db55",
            "value": " 233M/233M [00:04&lt;00:00, 55.1MB/s]"
          }
        },
        "999976fb78a44739b6240aa4332cf6eb": {
          "model_module": "@jupyter-widgets/base",
          "model_name": "LayoutModel",
          "model_module_version": "1.2.0",
          "state": {
            "_model_module": "@jupyter-widgets/base",
            "_model_module_version": "1.2.0",
            "_model_name": "LayoutModel",
            "_view_count": null,
            "_view_module": "@jupyter-widgets/base",
            "_view_module_version": "1.2.0",
            "_view_name": "LayoutView",
            "align_content": null,
            "align_items": null,
            "align_self": null,
            "border": null,
            "bottom": null,
            "display": null,
            "flex": null,
            "flex_flow": null,
            "grid_area": null,
            "grid_auto_columns": null,
            "grid_auto_flow": null,
            "grid_auto_rows": null,
            "grid_column": null,
            "grid_gap": null,
            "grid_row": null,
            "grid_template_areas": null,
            "grid_template_columns": null,
            "grid_template_rows": null,
            "height": null,
            "justify_content": null,
            "justify_items": null,
            "left": null,
            "margin": null,
            "max_height": null,
            "max_width": null,
            "min_height": null,
            "min_width": null,
            "object_fit": null,
            "object_position": null,
            "order": null,
            "overflow": null,
            "overflow_x": null,
            "overflow_y": null,
            "padding": null,
            "right": null,
            "top": null,
            "visibility": null,
            "width": null
          }
        },
        "80cc71c9bd6e46579205079d5a3c328f": {
          "model_module": "@jupyter-widgets/base",
          "model_name": "LayoutModel",
          "model_module_version": "1.2.0",
          "state": {
            "_model_module": "@jupyter-widgets/base",
            "_model_module_version": "1.2.0",
            "_model_name": "LayoutModel",
            "_view_count": null,
            "_view_module": "@jupyter-widgets/base",
            "_view_module_version": "1.2.0",
            "_view_name": "LayoutView",
            "align_content": null,
            "align_items": null,
            "align_self": null,
            "border": null,
            "bottom": null,
            "display": null,
            "flex": null,
            "flex_flow": null,
            "grid_area": null,
            "grid_auto_columns": null,
            "grid_auto_flow": null,
            "grid_auto_rows": null,
            "grid_column": null,
            "grid_gap": null,
            "grid_row": null,
            "grid_template_areas": null,
            "grid_template_columns": null,
            "grid_template_rows": null,
            "height": null,
            "justify_content": null,
            "justify_items": null,
            "left": null,
            "margin": null,
            "max_height": null,
            "max_width": null,
            "min_height": null,
            "min_width": null,
            "object_fit": null,
            "object_position": null,
            "order": null,
            "overflow": null,
            "overflow_x": null,
            "overflow_y": null,
            "padding": null,
            "right": null,
            "top": null,
            "visibility": null,
            "width": null
          }
        },
        "7ea077aed83447888b104a9f104538ba": {
          "model_module": "@jupyter-widgets/controls",
          "model_name": "DescriptionStyleModel",
          "model_module_version": "1.5.0",
          "state": {
            "_model_module": "@jupyter-widgets/controls",
            "_model_module_version": "1.5.0",
            "_model_name": "DescriptionStyleModel",
            "_view_count": null,
            "_view_module": "@jupyter-widgets/base",
            "_view_module_version": "1.2.0",
            "_view_name": "StyleView",
            "description_width": ""
          }
        },
        "866abbf74b0244c7ab0276e917ce0032": {
          "model_module": "@jupyter-widgets/base",
          "model_name": "LayoutModel",
          "model_module_version": "1.2.0",
          "state": {
            "_model_module": "@jupyter-widgets/base",
            "_model_module_version": "1.2.0",
            "_model_name": "LayoutModel",
            "_view_count": null,
            "_view_module": "@jupyter-widgets/base",
            "_view_module_version": "1.2.0",
            "_view_name": "LayoutView",
            "align_content": null,
            "align_items": null,
            "align_self": null,
            "border": null,
            "bottom": null,
            "display": null,
            "flex": null,
            "flex_flow": null,
            "grid_area": null,
            "grid_auto_columns": null,
            "grid_auto_flow": null,
            "grid_auto_rows": null,
            "grid_column": null,
            "grid_gap": null,
            "grid_row": null,
            "grid_template_areas": null,
            "grid_template_columns": null,
            "grid_template_rows": null,
            "height": null,
            "justify_content": null,
            "justify_items": null,
            "left": null,
            "margin": null,
            "max_height": null,
            "max_width": null,
            "min_height": null,
            "min_width": null,
            "object_fit": null,
            "object_position": null,
            "order": null,
            "overflow": null,
            "overflow_x": null,
            "overflow_y": null,
            "padding": null,
            "right": null,
            "top": null,
            "visibility": null,
            "width": null
          }
        },
        "a206e8fd6f9c49aa81e89fc3008d6001": {
          "model_module": "@jupyter-widgets/controls",
          "model_name": "ProgressStyleModel",
          "model_module_version": "1.5.0",
          "state": {
            "_model_module": "@jupyter-widgets/controls",
            "_model_module_version": "1.5.0",
            "_model_name": "ProgressStyleModel",
            "_view_count": null,
            "_view_module": "@jupyter-widgets/base",
            "_view_module_version": "1.2.0",
            "_view_name": "StyleView",
            "bar_color": null,
            "description_width": ""
          }
        },
        "cdd6b36652ac4e54a0b6628f95f8a1a9": {
          "model_module": "@jupyter-widgets/base",
          "model_name": "LayoutModel",
          "model_module_version": "1.2.0",
          "state": {
            "_model_module": "@jupyter-widgets/base",
            "_model_module_version": "1.2.0",
            "_model_name": "LayoutModel",
            "_view_count": null,
            "_view_module": "@jupyter-widgets/base",
            "_view_module_version": "1.2.0",
            "_view_name": "LayoutView",
            "align_content": null,
            "align_items": null,
            "align_self": null,
            "border": null,
            "bottom": null,
            "display": null,
            "flex": null,
            "flex_flow": null,
            "grid_area": null,
            "grid_auto_columns": null,
            "grid_auto_flow": null,
            "grid_auto_rows": null,
            "grid_column": null,
            "grid_gap": null,
            "grid_row": null,
            "grid_template_areas": null,
            "grid_template_columns": null,
            "grid_template_rows": null,
            "height": null,
            "justify_content": null,
            "justify_items": null,
            "left": null,
            "margin": null,
            "max_height": null,
            "max_width": null,
            "min_height": null,
            "min_width": null,
            "object_fit": null,
            "object_position": null,
            "order": null,
            "overflow": null,
            "overflow_x": null,
            "overflow_y": null,
            "padding": null,
            "right": null,
            "top": null,
            "visibility": null,
            "width": null
          }
        },
        "724f0a5034644418aff50e2bafe5db55": {
          "model_module": "@jupyter-widgets/controls",
          "model_name": "DescriptionStyleModel",
          "model_module_version": "1.5.0",
          "state": {
            "_model_module": "@jupyter-widgets/controls",
            "_model_module_version": "1.5.0",
            "_model_name": "DescriptionStyleModel",
            "_view_count": null,
            "_view_module": "@jupyter-widgets/base",
            "_view_module_version": "1.2.0",
            "_view_name": "StyleView",
            "description_width": ""
          }
        }
      }
    }
  },
  "nbformat": 4,
  "nbformat_minor": 0
}