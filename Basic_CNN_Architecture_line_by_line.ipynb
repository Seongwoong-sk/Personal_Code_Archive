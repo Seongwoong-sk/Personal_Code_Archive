{
  "nbformat": 4,
  "nbformat_minor": 0,
  "metadata": {
    "kernelspec": {
      "display_name": "Python 3",
      "language": "python",
      "name": "python3"
    },
    "language_info": {
      "codemirror_mode": {
        "name": "ipython",
        "version": 3
      },
      "file_extension": ".py",
      "mimetype": "text/x-python",
      "name": "python",
      "nbconvert_exporter": "python",
      "pygments_lexer": "ipython3",
      "version": "3.7.4"
    },
    "colab": {
      "name": "5-1강 CNN.ipynb",
      "provenance": [],
      "collapsed_sections": [],
      "machine_shape": "hm"
    },
    "accelerator": "GPU"
  },
  "cells": [
    {
      "cell_type": "markdown",
      "metadata": {
        "id": "KbWSckjqEtBO"
      },
      "source": [
        "# 5. CNN을 이용한 분류 (CIFAR10)\n",
        "\n",
        "합성곱 신경망(Convolutional Neural Network)를 이용한 이미지 분류"
      ]
    },
    {
      "cell_type": "code",
      "metadata": {
        "id": "iBv43acUEtBY"
      },
      "source": [
        "import torch\n",
        "import torchvision\n",
        "import torchvision.transforms as transforms\n",
        "from torch.utils.data import DataLoader\n",
        "import torch.nn as nn\n",
        "import torch.nn.functional as F\n",
        "import torch.optim as optim\n",
        "import matplotlib.pyplot as plt"
      ],
      "execution_count": 2,
      "outputs": []
    },
    {
      "cell_type": "markdown",
      "metadata": {
        "id": "qv22bgoxEtBZ"
      },
      "source": [
        "## 5.1 CIFAR10 데이터 불러오기"
      ]
    },
    {
      "cell_type": "code",
      "metadata": {
        "colab": {
          "base_uri": "https://localhost:8080/"
        },
        "id": "ItHOAe6TH1fI",
        "outputId": "26ee6707-785f-4ebf-e513-0b1a585ca20a"
      },
      "source": [
        "from google.colab import drive\n",
        "drive.mount('/content/drive')"
      ],
      "execution_count": 1,
      "outputs": [
        {
          "output_type": "stream",
          "name": "stdout",
          "text": [
            "Mounted at /content/drive\n"
          ]
        }
      ]
    },
    {
      "cell_type": "code",
      "metadata": {
        "colab": {
          "base_uri": "https://localhost:8080/"
        },
        "id": "zed0IHm-H3xa",
        "outputId": "835a2043-e0c0-4280-ce4c-0f101e940cfc"
      },
      "source": [
        "cd/content/drive/MyDrive/Colab_Notebooks/deeplearningbro/pytorch"
      ],
      "execution_count": 3,
      "outputs": [
        {
          "output_type": "stream",
          "name": "stdout",
          "text": [
            "/content/drive/MyDrive/Colab_Notebooks/deeplearningbro/pytorch\n"
          ]
        }
      ]
    },
    {
      "cell_type": "code",
      "metadata": {
        "colab": {
          "base_uri": "https://localhost:8080/"
        },
        "id": "pR7AWTpkEtBa",
        "outputId": "b970c5c7-edee-4ce8-fa8f-0b3e2fcc069e"
      },
      "source": [
        "# CIFAR10: 클래스 10개를 가진 이미지 데이터\n",
        "# 'plane', 'car', 'bird', 'cat', 'deer', 'dog', 'frog', 'horse', 'ship', 'truck'\n",
        "\n",
        "transform = transforms.Compose(\n",
        "    [transforms.ToTensor(),\n",
        "     transforms.Normalize((0.5, 0.5, 0.5), (0.5, 0.5, 0.5))]) # 0,1,2 각각의 채널에 mean과 std를 곱해서 정규화\n",
        "\n",
        "trainset = torchvision.datasets.CIFAR10(root='./data', train=True,\n",
        "                                        download=True, transform=transform)\n",
        "\n",
        "trainloader = torch.utils.data.DataLoader(trainset, batch_size=8, shuffle=True) # 데이터를 배치 형태로 만들기\n",
        "\n",
        "testset = torchvision.datasets.CIFAR10(root='./data', train=False,\n",
        "                                       download=True, transform=transform)\n",
        "testloader = torch.utils.data.DataLoader(testset, batch_size=8, shuffle=False)"
      ],
      "execution_count": 4,
      "outputs": [
        {
          "output_type": "stream",
          "name": "stdout",
          "text": [
            "Files already downloaded and verified\n",
            "Files already downloaded and verified\n"
          ]
        }
      ]
    },
    {
      "cell_type": "code",
      "metadata": {
        "colab": {
          "base_uri": "https://localhost:8080/"
        },
        "id": "4ZTDIdOkGrQi",
        "outputId": "38fbcbbd-f162-4d56-c114-d1348a58b28e"
      },
      "source": [
        "# CPU or GPU :: 연산 종류 확인\n",
        "device = torch.device(\"cuda:0\" if torch.cuda.is_available() else \"cpu\")\n",
        "print(f'{device} is available.')"
      ],
      "execution_count": 5,
      "outputs": [
        {
          "output_type": "stream",
          "name": "stdout",
          "text": [
            "cuda:0 is available.\n"
          ]
        }
      ]
    },
    {
      "cell_type": "markdown",
      "metadata": {
        "id": "IfT1ARZCEtBb"
      },
      "source": [
        "## 5.2 CNN 모델 구축"
      ]
    },
    {
      "cell_type": "code",
      "metadata": {
        "id": "N7tpEt6NEtBb"
      },
      "source": [
        "class Net(nn.Module):\n",
        "    def __init__(self):\n",
        "        super(Net, self).__init__()\n",
        "        self.conv1 = nn.Conv2d(3, 6, 5) # 합성곱 연산 (입력 채널수 3, 출력 채널수 6, 필터크기 5x5 , stride=1(defualt))\n",
        "        self.pool1 = nn.MaxPool2d(2, 2) # 합성곱 연산 (필터크기 2, stride=2)\n",
        "        self.conv2 = nn.Conv2d(6, 16, 5) # 합성곱 연산 (입력 채널수 6, 출력 채널수 16, 필터크기 5x5 , stride=1(defualt))\n",
        "        self.pool2 = nn.MaxPool2d(2, 2) # 합성곱 연산 (필터크기 2, stride=2)\n",
        "        self.fc1 = nn.Linear(16 * 5 * 5, 120) # 5x5 피쳐맵 16개를 일렬로 피면 16*5*5개의 노드가 생성\n",
        "        self.fc2 = nn.Linear(120, 10) # 120개 노드에서 클래스의 개수인 10개의 노드로 연산\n",
        "\n",
        "    def forward(self, x):\n",
        "        x = self.pool1(F.relu(self.conv1(x))) # conv1 -> ReLU -> pool1\n",
        "        x = self.pool2(F.relu(self.conv2(x))) # conv2 -> ReLU -> pool2\n",
        "        x = x.view(-1, 16 * 5 * 5) # 5x5 피쳐맵 16개를 일렬로 만든다. // 여기서 -1은 배치 수 .\n",
        "        # CrossEntropyLoss는 softmax 계산까지 포함되어 있으므로 모델의 마지막 output node에 별도의 활성화 함수를 사용하지 않아도 된다.\n",
        "        x = F.relu(self.fc1(x)) \n",
        "        x = self.fc2(x)\n",
        "\n",
        "        return x\n",
        "\n",
        "net = Net().to(device) # 모델 선언\n"
      ],
      "execution_count": 6,
      "outputs": []
    },
    {
      "cell_type": "code",
      "metadata": {
        "colab": {
          "base_uri": "https://localhost:8080/"
        },
        "id": "JoXGMaN9EtBc",
        "outputId": "036c7781-5eba-4f66-8940-352fcaa96042"
      },
      "source": [
        "print(net)\n",
        "# 피쳐의 크기: 32 -> 28 ->14 -> 10 -> 5\n",
        "\n",
        "'''\n",
        "16 * 5 * 5 ::\n",
        "너비 높이가 같은 입력 이미지를 사용할 경우 피쳐맵의 가로 세로 크기는 일반적으로 다음과 같이 계산 됩니다. \n",
        "\n",
        "output size = 1 + (input size + 2*padding - filter size)/stride\n",
        "\n",
        "따라서 각 층을 위 식과 필터 개수를 같이 고려하여 계산하면 다음과 같은 결과를 얻게 됩니다.\n",
        "\n",
        "입력 이미지 크기 3x32x32\n",
        "\n",
        "conv1의 피쳐맵 크기 1+(32-5)/1=28 -> 6x28x28\n",
        "\n",
        "pool1의 피쳐맵 크기 1+(28-2)/2=14 -> 6x14x14\n",
        "\n",
        "conv2의 피쳐맵 크기 1+(14-5)/1=10 -> 16x10x10\n",
        "\n",
        "pool2의 피쳐맵 크기 1+(10-2)/2=5 -> 16x5x5\n",
        "\n",
        "'''"
      ],
      "execution_count": 7,
      "outputs": [
        {
          "output_type": "stream",
          "name": "stdout",
          "text": [
            "Net(\n",
            "  (conv1): Conv2d(3, 6, kernel_size=(5, 5), stride=(1, 1))\n",
            "  (pool1): MaxPool2d(kernel_size=2, stride=2, padding=0, dilation=1, ceil_mode=False)\n",
            "  (conv2): Conv2d(6, 16, kernel_size=(5, 5), stride=(1, 1))\n",
            "  (pool2): MaxPool2d(kernel_size=2, stride=2, padding=0, dilation=1, ceil_mode=False)\n",
            "  (fc1): Linear(in_features=400, out_features=120, bias=True)\n",
            "  (fc2): Linear(in_features=120, out_features=10, bias=True)\n",
            ")\n"
          ]
        }
      ]
    },
    {
      "cell_type": "markdown",
      "metadata": {
        "id": "3ogPhPJ2EtBd"
      },
      "source": [
        "## 5.3 모델 학습하기"
      ]
    },
    {
      "cell_type": "code",
      "metadata": {
        "id": "dXE_rdNVEtBd"
      },
      "source": [
        "\n",
        "criterion = nn.CrossEntropyLoss() # CrossEntropyLoss는 softmax 계산까지 포함되어 있으므로 모델의 마지막 output node에 별도의 활성화 함수를 사용하지 않아도 된다.\n",
        "optimizer = optim.SGD(net.parameters(), lr=1e-3, momentum=0.9)"
      ],
      "execution_count": 8,
      "outputs": []
    },
    {
      "cell_type": "code",
      "metadata": {
        "colab": {
          "base_uri": "https://localhost:8080/"
        },
        "id": "V4YVuZXyEtBd",
        "outputId": "b6377766-09b9-4f1a-91ca-2b6050a63ade"
      },
      "source": [
        "# 모델의 학습 과정인 4강에서 배운 인공 신경망과 동일하다.\n",
        "loss_ = [] # 그래프를 그리기 위한 loss 저장용 리스트 \n",
        "n = len(trainloader) # 배치 개수\n",
        "\n",
        "for epoch in range(10):  # 10번 학습을 진행한다.\n",
        "\n",
        "    running_loss = 0.0\n",
        "    for i, data in enumerate(trainloader, 0):\n",
        "\n",
        "        inputs, labels = data[0].to(device), data[1].to(device) # 배치 데이터 GPU용 :: GPU 계산이 가능한 Tensor로 만들어줌.\n",
        "        \n",
        "        optimizer.zero_grad()\n",
        "\n",
        "        outputs = net(inputs) # 예측값 산출 :: 이미지 받아서 10개짜리 노드 산출\n",
        "        loss = criterion(outputs, labels) # 손실함수(Cross Entropy) 계산 :: 여기서  label은 0~9 로 숫자 하나 값 / outputs : node가 10개인 vector\n",
        "        '''\n",
        "        파이토치에서 크로스 엔트로피에 해당하는 criterion(A, B)에서  A의 크기를 (배치 크기)x(클래스 수), B의 크기를 (배치 크기)로 입력 받도록 정의하였습니다. \n",
        "        즉, 입력 형식을 맞춰 주셔야만 사용이 가능하다는 말입니다. 생각하고 계신 계산 과정은 내부에서 자동으로 처리해 주는 것이므로 걱정 안 하셔도 되요 :)\n",
        "        '''\n",
        "        loss.backward() # 손실함수 기준으로 역전파 선언\n",
        "        optimizer.step() # 가중치 최적화\n",
        "\n",
        "        # print statistics\n",
        "        # 배치마다 계산이 되는 거기 때문에 배치마다의 loss를 더해서\n",
        "        running_loss += loss.item()\n",
        "\n",
        "    loss_.append(running_loss / n)  # 평균 loss로 epoch 1개당의 loss\n",
        "    print('[%d] loss: %.3f' %(epoch + 1, running_loss / len(trainloader)))\n",
        "\n",
        "print('Finished Training')"
      ],
      "execution_count": 9,
      "outputs": [
        {
          "output_type": "stream",
          "name": "stdout",
          "text": [
            "[1] loss: 1.749\n",
            "[2] loss: 1.335\n",
            "[3] loss: 1.183\n",
            "[4] loss: 1.085\n",
            "[5] loss: 1.014\n",
            "[6] loss: 0.958\n",
            "[7] loss: 0.909\n",
            "[8] loss: 0.869\n",
            "[9] loss: 0.833\n",
            "[10] loss: 0.798\n",
            "Finished Training\n"
          ]
        }
      ]
    },
    {
      "cell_type": "code",
      "metadata": {
        "id": "Y3Qlr8XzJ-dG",
        "colab": {
          "base_uri": "https://localhost:8080/",
          "height": 295
        },
        "outputId": "31d610cc-de87-4730-e38d-def39d7eba34"
      },
      "source": [
        "plt.plot(loss_)\n",
        "plt.title(\"Training Loss\")\n",
        "plt.xlabel(\"epoch\")\n",
        "plt.show()"
      ],
      "execution_count": 10,
      "outputs": [
        {
          "output_type": "display_data",
          "data": {
            "text/plain": [
              "<Figure size 432x288 with 1 Axes>"
            ],
            "image/png": "[encoded data removed]"
          },
          "metadata": {
            "needs_background": "light"
          }
        }
      ]
    },
    {
      "cell_type": "markdown",
      "metadata": {
        "id": "BiAQL6l2EtBe"
      },
      "source": [
        "## 5.4 모델 저장하기"
      ]
    },
    {
      "cell_type": "code",
      "metadata": {
        "id": "VjFHckKoEtBe"
      },
      "source": [
        "PATH = './models/cifar_net.pth' # 모델 저장 경로 \n",
        "torch.save(net.state_dict(), PATH) # 모델(의 파라미터) 저장"
      ],
      "execution_count": 12,
      "outputs": []
    },
    {
      "cell_type": "markdown",
      "metadata": {
        "id": "5V72jwNfEtBf"
      },
      "source": [
        "## 5.5 모델 불러오기"
      ]
    },
    {
      "cell_type": "code",
      "metadata": {
        "colab": {
          "base_uri": "https://localhost:8080/"
        },
        "id": "hrs94OgCEtBf",
        "outputId": "c2e4d0e7-30d7-43d6-fc51-c6ce7ffe8a97"
      },
      "source": [
        "# 위에서 GPU 용으로 모델 파라미터를 계산했으므로 모델 파라미터를 받을 모델의 뼈대도 GPU용으로 만들고 GPU로 계산해야 함.\n",
        "# 모델 불러오기는 엄밀히 말하자면 \"모델의 파라메타\"를 불러오는 것이다. <<따라서 모델의 뼈대를 먼저 선언>>하고\n",
        "# 모델의 파라메타를 불러와 pretrained model을 만든다.\n",
        "\n",
        "net = Net().to(device) # 모델 선언\n",
        "net.load_state_dict(torch.load(PATH)) # 모델 파라메타 불러오기"
      ],
      "execution_count": 13,
      "outputs": [
        {
          "output_type": "execute_result",
          "data": {
            "text/plain": [
              "<All keys matched successfully>"
            ]
          },
          "metadata": {},
          "execution_count": 13
        }
      ]
    },
    {
      "cell_type": "markdown",
      "metadata": {
        "id": "_H6TXyfnEtBg"
      },
      "source": [
        "## 5.6 모델 정확도(Accuracy) 구하기"
      ]
    },
    {
      "cell_type": "code",
      "metadata": {
        "colab": {
          "base_uri": "https://localhost:8080/"
        },
        "id": "XmMKCIhMEtBg",
        "outputId": "2977b050-47b1-47f5-c3ac-05e3e2f277f6"
      },
      "source": [
        "# 모델 정확도는 Update가 되지 않기 때문에 with torch.no_grad() 구문 안에\n",
        "# 평가 데이터를 이용해 정확도를 구해보자.\n",
        "# output은 미니배치의 결과가 산출되기 때문에 for문을 통해서 test 전체의 예측값을 구한다.\n",
        "\n",
        "correct = 0\n",
        "total = 0\n",
        "with torch.no_grad():\n",
        "    \n",
        "    for data in testloader:\n",
        "        images, labels = data[0].to(device), data[1].to(device)\n",
        "        outputs = net(images)\n",
        "        _, predicted = torch.max(outputs.data, 1)\n",
        "        total += labels.size(0) # 개수 누적(총 개수)\n",
        "        correct += (predicted == labels).sum().item() # 누적(맞으면 1, 틀리면 0으로 합산)\n",
        "        \n",
        "print('Accuracy of the network on the 10000 test images: %d %%' % (100 * correct / total))"
      ],
      "execution_count": 14,
      "outputs": [
        {
          "output_type": "stream",
          "name": "stdout",
          "text": [
            "Accuracy of the network on the 10000 test images: 64 %\n"
          ]
        }
      ]
    },
    {
      "cell_type": "code",
      "source": [
        "# _, predicted = torch.max(outputs.data, 1)의 의미\n",
        "'''\n",
        "outputs의 크기가 (배치 크기)x(클래스의 개수)이므로  열이 하나의 이미지의 대응되는 벡터를 나타냅니다. 따라서 행(0), 열(1) 중 열을 기준으로 최댓값을 뽑아 예측값을 하나 만드는 것입니다. \n",
        "\n",
        "예를 들어서 배치 크기가 2이고 클래스가 3개인 outputs가 있다고 생각해봅니다.\n",
        "\n",
        "outputs = [[0.1, 0.4, 0.5], [0.2, 0.6, 0,2]] \n",
        "\n",
        "여기서의 최댓값의 위치는 2번째(0.5)와 1번째(0.6)입니다. 즉, 첫번째 이미지는 2라고 예측하는 것이고 두번째 이미지는 1이라고 예측을 하게 됩니다. 이를 torch.max를 이용하여 나타냅니다.\n",
        "\n",
        "torch.max는 최댓값과 최댓값의 위치를 산출해주는데 여기서 우리는 최댓값은 필요가 없으므로 받지 않아도 됩니다.\n",
        "\n",
        "따라서 _ (언더바)로 처리하여 해당 출력값은 저장하지 않겠다는 의미입니다. 즉, _, predicted는 최댓값의 위치만 predicted에 저장하겠다는 의미입니다.\n",
        "\n",
        "따라서 _, predicted = torch.max(outputs.data, 1)의 의미는 각 열(1)마다 최댓값의 위치를 예측값으로 사용하겠다는 의미입니다. \n",
        "\n",
        "마지막으로 .data는 예측값을 계산할 때는 역전파 계산이 필요없기 때문에 데이터만 사용한다는 의미에서 사용된 것입니다. \n",
        "\n",
        "( 그런데 지금 보니까 with torch.no_grad()를 사용했기 때문에 .data를 없애도 될 것 같습니다.)\n",
        "\n",
        "'''"
      ],
      "metadata": {
        "id": "wzfb1eAtcoQM"
      },
      "execution_count": null,
      "outputs": []
    },
    {
      "cell_type": "code",
      "metadata": {
        "id": "fifY1vaJJEgG"
      },
      "source": [
        ""
      ],
      "execution_count": null,
      "outputs": []
    }
  ]
}